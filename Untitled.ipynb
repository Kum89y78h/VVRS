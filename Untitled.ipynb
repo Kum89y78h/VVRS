{
 "cells": [
  {
   "cell_type": "code",
   "execution_count": 9,
   "id": "ccb79cd8",
   "metadata": {},
   "outputs": [
    {
     "name": "stdout",
     "output_type": "stream",
     "text": [
      "1 \n",
      "2 2 \n",
      "3 3 3 \n",
      "4 4 4 4 \n",
      "5 5 5 5 5 \n"
     ]
    }
   ],
   "source": [
    "for a in  range(1,6):\n",
    "    for b in  range(1,a+1):\n",
    "        print(a,end=\" \")\n",
    "    print()"
   ]
  },
  {
   "cell_type": "code",
   "execution_count": 8,
   "id": "6652a75a",
   "metadata": {},
   "outputs": [
    {
     "name": "stdout",
     "output_type": "stream",
     "text": [
      "5 5 5 5 5 \n",
      "4 4 4 4 \n",
      "3 3 3 \n",
      "2 2 \n",
      "1 \n"
     ]
    }
   ],
   "source": [
    "for a in range(5,0,-1):\n",
    "    for b in range(a,0,-1):\n",
    "        print (a,end=\" \")\n",
    "    print()"
   ]
  },
  {
   "cell_type": "code",
   "execution_count": 7,
   "id": "c015bef0",
   "metadata": {},
   "outputs": [
    {
     "name": "stdout",
     "output_type": "stream",
     "text": [
      "1 1 1 1 1 \n",
      "3 3 3 3 \n",
      "5 5 5 \n",
      "7 7 \n",
      "9 \n"
     ]
    }
   ],
   "source": [
    "for i in range(1,10,2):\n",
    "    for j in range(9,i-1,-2):\n",
    "        print(i,end=\" \")\n",
    "    print()"
   ]
  },
  {
   "cell_type": "code",
   "execution_count": 6,
   "id": "c439469f",
   "metadata": {},
   "outputs": [
    {
     "name": "stdout",
     "output_type": "stream",
     "text": [
      "7 7 7 7 7 7 7 \n",
      "5 5 5 5 5 \n",
      "3 3 3 \n",
      "1 \n"
     ]
    }
   ],
   "source": [
    "for i in range(7,0,-2):\n",
    "    for j in range(1,i+1,1):\n",
    "        print(i,end=\" \")\n",
    "    print()"
   ]
  },
  {
   "cell_type": "code",
   "execution_count": 10,
   "id": "56ee4c35",
   "metadata": {},
   "outputs": [
    {
     "name": "stdout",
     "output_type": "stream",
     "text": [
      "6\n",
      "4\n",
      "2\n"
     ]
    }
   ],
   "source": [
    "for a in range(6,0,-2):\n",
    "    print(a)"
   ]
  },
  {
   "cell_type": "code",
   "execution_count": 11,
   "id": "2027d0ec",
   "metadata": {},
   "outputs": [
    {
     "name": "stdout",
     "output_type": "stream",
     "text": [
      "2\n"
     ]
    }
   ],
   "source": [
    "for i in range(3):\n",
    "    pass\n",
    "print(i)"
   ]
  },
  {
   "cell_type": "code",
   "execution_count": 12,
   "id": "81f33d74",
   "metadata": {},
   "outputs": [
    {
     "name": "stdout",
     "output_type": "stream",
     "text": [
      "10\n"
     ]
    }
   ],
   "source": [
    "a=0\n",
    "for i in range(4,8):\n",
    "    if i%2==0:\n",
    "        a=a+i\n",
    "print(a)"
   ]
  },
  {
   "cell_type": "code",
   "execution_count": 13,
   "id": "d69fb3b5",
   "metadata": {},
   "outputs": [
    {
     "name": "stdout",
     "output_type": "stream",
     "text": [
      "6\n"
     ]
    }
   ],
   "source": [
    "N=5\n",
    "i=1\n",
    "sum=0\n",
    "for i in range(1,N):\n",
    "    if i%2==0:\n",
    "        sum=sum+i\n",
    "    i=i+1\n",
    "print(sum)"
   ]
  },
  {
   "cell_type": "code",
   "execution_count": 18,
   "id": "13e08c20",
   "metadata": {},
   "outputs": [
    {
     "name": "stdout",
     "output_type": "stream",
     "text": [
      "65 \n",
      "65 66 \n",
      "65 66 67 \n",
      "65 66 67 68 \n",
      "65 66 67 68 69 \n",
      "65 66 67 68 69 70 \n"
     ]
    }
   ],
   "source": [
    "for a in range(65,71):\n",
    "    for b in range(65,a+1):\n",
    "        st=str(b)\n",
    "        print(st,end=\" \")\n",
    "    print()"
   ]
  },
  {
   "cell_type": "code",
   "execution_count": 19,
   "id": "0e635ab2",
   "metadata": {},
   "outputs": [
    {
     "name": "stdout",
     "output_type": "stream",
     "text": [
      "0 \n",
      "2 2 \n",
      "4 4 4 \n",
      "6 6 6 6 \n",
      "8 8 8 8 8 \n"
     ]
    }
   ],
   "source": [
    "for a in range(0,9,2):\n",
    "    for b in range(0,a+1,2):\n",
    "        print(a,end=\" \")\n",
    "    print()"
   ]
  },
  {
   "cell_type": "code",
   "execution_count": 20,
   "id": "6ea0be0e",
   "metadata": {},
   "outputs": [
    {
     "name": "stdout",
     "output_type": "stream",
     "text": [
      "2 \n",
      "4 4 \n",
      "6 6 6 \n",
      "8 8 8 8 \n"
     ]
    }
   ],
   "source": [
    "for a in range(2,9,2):\n",
    "    for b in range(2,a+1,2):\n",
    "        print(a,end=\" \")\n",
    "    print()"
   ]
  },
  {
   "cell_type": "code",
   "execution_count": 21,
   "id": "5e0add96",
   "metadata": {},
   "outputs": [
    {
     "name": "stdout",
     "output_type": "stream",
     "text": [
      "65 \n",
      "66 66 \n",
      "67 67 67 \n",
      "68 68 68 68 \n",
      "69 69 69 69 69 \n"
     ]
    }
   ],
   "source": [
    "for a in range(65,70):\n",
    "    for b in range(65,a+1):\n",
    "        print(a,end=\" \")\n",
    "    print()\n"
   ]
  },
  {
   "cell_type": "code",
   "execution_count": 26,
   "id": "c39ec8e6",
   "metadata": {},
   "outputs": [
    {
     "name": "stdout",
     "output_type": "stream",
     "text": [
      "A \n",
      "A A \n",
      "A A A \n",
      "A A A A \n",
      "A A A A A \n"
     ]
    }
   ],
   "source": [
    "\n",
    "for i in range(1,6):\n",
    "    for j in range(1,i+1):\n",
    "        print('A',end=\" \")\n",
    "    print()"
   ]
  },
  {
   "cell_type": "code",
   "execution_count": null,
   "id": "1a71e5f7",
   "metadata": {},
   "outputs": [],
   "source": []
  }
 ],
 "metadata": {
  "kernelspec": {
   "display_name": "Python 3",
   "language": "python",
   "name": "python3"
  },
  "language_info": {
   "codemirror_mode": {
    "name": "ipython",
    "version": 3
   },
   "file_extension": ".py",
   "mimetype": "text/x-python",
   "name": "python",
   "nbconvert_exporter": "python",
   "pygments_lexer": "ipython3",
   "version": "3.8.8"
  }
 },
 "nbformat": 4,
 "nbformat_minor": 5
}
